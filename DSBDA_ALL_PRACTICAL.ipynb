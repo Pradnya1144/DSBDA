{
 "cells": [
  {
   "cell_type": "code",
   "execution_count": 11,
   "id": "5cc01f56",
   "metadata": {},
   "outputs": [],
   "source": [
    "#1. Perform the following operations using Python on the Facebook metrics data sets\n",
    "#a. Create data subsets \n",
    "#b. Merge Data\n",
    "#c. TransposingData\n",
    "import pandas as pd\n",
    "import numpy as np\n",
    "df = pd.read_csv(\"/Users/pradnyakamble/Downloads/dataset_Facebook.csv\", sep = \";\")\n",
    "df.describe()"
   ]
  },
  {
   "cell_type": "code",
   "execution_count": 2,
   "id": "c6c1410b",
   "metadata": {},
   "outputs": [
    {
     "data": {
      "text/plain": [
       "(500, 19)"
      ]
     },
     "execution_count": 2,
     "metadata": {},
     "output_type": "execute_result"
    }
   ],
   "source": [
    "df.shape"
   ]
  },
  {
   "cell_type": "code",
   "execution_count": 12,
   "id": "0993fe12",
   "metadata": {},
   "outputs": [
    {
     "name": "stdout",
     "output_type": "stream",
     "text": [
      "\n",
      "-------------------------- df_subset1 --------------------------\n",
      "\n"
     ]
    }
   ],
   "source": [
    "# A. CREATE DATA SUBSETS\n",
    "# Creating subset using loc() and iloc() function\n",
    "# No. of likes V/s the No. of shares for the first 5 posts\n",
    "df_subset1=df.loc[0:4, ['like', 'share']] \n",
    "print('\\n-------------------------- df_subset1 --------------------------\\n')\n",
    "print(df_subset1)"
   ]
  },
  {
   "cell_type": "code",
   "execution_count": 4,
   "id": "7df50a03",
   "metadata": {},
   "outputs": [
    {
     "name": "stdout",
     "output_type": "stream",
     "text": [
      "\n",
      "-------------------------- df_subset2 --------------------------\n",
      "\n",
      "     like  share\n",
      "0    79.0   17.0\n",
      "1   130.0   29.0\n",
      "2    66.0   14.0\n",
      "3  1572.0  147.0\n",
      "4   325.0   49.0\n"
     ]
    }
   ],
   "source": [
    "df_subset2=df.iloc[[0, 1, 2, 3, 4], [16, 17]]\n",
    "print('\\n-------------------------- df_subset2 --------------------------\\n')\n",
    "print(df_subset2)"
   ]
  },
  {
   "cell_type": "code",
   "execution_count": 5,
   "id": "0905e3ba",
   "metadata": {},
   "outputs": [
    {
     "name": "stdout",
     "output_type": "stream",
     "text": [
      "\n",
      "-------------------------- df_subset3 --------------------------\n",
      "\n",
      "     like-share ratio\n",
      "0            4.647059\n",
      "1            4.482759\n",
      "2            4.714286\n",
      "3           10.693878\n",
      "4            6.632653\n",
      "..                ...\n",
      "495          2.038462\n",
      "496          2.409091\n",
      "497          5.166667\n",
      "498          2.394737\n",
      "499          3.250000\n",
      "\n",
      "[500 rows x 1 columns]\n"
     ]
    }
   ],
   "source": [
    "# B. MERGE DATA\n",
    "# Creating a dataframe that has the like to share ratio of every post and status\n",
    "df_subset3=df['like'].div(df['share']).to_frame('like-share ratio')\n",
    "print('\\n-------------------------- df_subset3 --------------------------\\n')\n",
    "print(df_subset3)"
   ]
  },
  {
   "cell_type": "code",
   "execution_count": 6,
   "id": "8399519f",
   "metadata": {},
   "outputs": [
    {
     "name": "stdout",
     "output_type": "stream",
     "text": [
      "\n",
      "-------------------------- df_transposed --------------------------\n",
      "\n",
      "                                                       0       1       2    \\\n",
      "Page total likes                                    139441  139441  139441   \n",
      "Type                                                 Photo  Status   Photo   \n",
      "Category                                                 2       2       3   \n",
      "Post Month                                              12      12      12   \n",
      "Post Weekday                                             4       3       3   \n",
      "Post Hour                                                3      10       3   \n",
      "Paid                                                   0.0     0.0     0.0   \n",
      "Lifetime Post Total Reach                             2752   10460    2413   \n",
      "Lifetime Post Total Impressions                       5091   19057    4373   \n",
      "Lifetime Engaged Users                                 178    1457     177   \n",
      "Lifetime Post Consumers                                109    1361     113   \n",
      "Lifetime Post Consumptions                             159    1674     154   \n",
      "Lifetime Post Impressions by people who have li...    3078   11710    2812   \n",
      "Lifetime Post reach by people who like your Page      1640    6112    1503   \n",
      "Lifetime People who have liked your Page and en...     119    1108     132   \n",
      "comment                                                  4       5       0   \n",
      "like                                                  79.0   130.0    66.0   \n",
      "share                                                 17.0    29.0    14.0   \n",
      "Total Interactions                                     100     164      80   \n",
      "\n",
      "                                                       3       4       5    \\\n",
      "Page total likes                                    139441  139441  139441   \n",
      "Type                                                 Photo   Photo  Status   \n",
      "Category                                                 2       2       2   \n",
      "Post Month                                              12      12      12   \n",
      "Post Weekday                                             2       2       1   \n",
      "Post Hour                                               10       3       9   \n",
      "Paid                                                   1.0     0.0     0.0   \n",
      "Lifetime Post Total Reach                            50128    7244   10472   \n",
      "Lifetime Post Total Impressions                      87991   13594   20849   \n",
      "Lifetime Engaged Users                                2211     671    1191   \n",
      "Lifetime Post Consumers                                790     410    1073   \n",
      "Lifetime Post Consumptions                            1119     580    1389   \n",
      "Lifetime Post Impressions by people who have li...   61027    6228   16034   \n",
      "Lifetime Post reach by people who like your Page     32048    3200    7852   \n",
      "Lifetime People who have liked your Page and en...    1386     396    1016   \n",
      "comment                                                 58      19       1   \n",
      "like                                                1572.0   325.0   152.0   \n",
      "share                                                147.0    49.0    33.0   \n",
      "Total Interactions                                    1777     393     186   \n",
      "\n",
      "                                                       6       7       8    \\\n",
      "Page total likes                                    139441  139441  139441   \n",
      "Type                                                 Photo   Photo  Status   \n",
      "Category                                                 3       3       2   \n",
      "Post Month                                              12      12      12   \n",
      "Post Weekday                                             1       7       7   \n",
      "Post Hour                                                3       9       3   \n",
      "Paid                                                   1.0     1.0     0.0   \n",
      "Lifetime Post Total Reach                            11692   13720   11844   \n",
      "Lifetime Post Total Impressions                      19479   24137   22538   \n",
      "Lifetime Engaged Users                                 481     537    1530   \n",
      "Lifetime Post Consumers                                265     232    1407   \n",
      "Lifetime Post Consumptions                             364     305    1692   \n",
      "Lifetime Post Impressions by people who have li...   15432   19728   15220   \n",
      "Lifetime Post reach by people who like your Page      9328   11056    7912   \n",
      "Lifetime People who have liked your Page and en...     379     422    1250   \n",
      "comment                                                  3       0       0   \n",
      "like                                                 249.0   325.0   161.0   \n",
      "share                                                 27.0    14.0    31.0   \n",
      "Total Interactions                                     279     339     192   \n",
      "\n",
      "                                                       9    ...    490    491  \\\n",
      "Page total likes                                    139441  ...  85979  85979   \n",
      "Type                                                 Photo  ...  Photo  Photo   \n",
      "Category                                                 3  ...      3      3   \n",
      "Post Month                                              12  ...      1      1   \n",
      "Post Weekday                                             6  ...      6      6   \n",
      "Post Hour                                               10  ...     11      3   \n",
      "Paid                                                   0.0  ...    0.0    1.0   \n",
      "Lifetime Post Total Reach                             4694  ...   5280   6184   \n",
      "Lifetime Post Total Impressions                       8668  ...   8703  10228   \n",
      "Lifetime Engaged Users                                 280  ...    951    956   \n",
      "Lifetime Post Consumers                                183  ...    911    901   \n",
      "Lifetime Post Consumptions                             250  ...   1237   1140   \n",
      "Lifetime Post Impressions by people who have li...    4309  ...   5757   6085   \n",
      "Lifetime Post reach by people who like your Page      2324  ...   3300   3502   \n",
      "Lifetime People who have liked your Page and en...     199  ...    431    437   \n",
      "comment                                                  3  ...      1      1   \n",
      "like                                                 113.0  ...   79.0  105.0   \n",
      "share                                                 26.0  ...   30.0   46.0   \n",
      "Total Interactions                                     142  ...    110    152   \n",
      "\n",
      "                                                      492    493    494  \\\n",
      "Page total likes                                    85979  85093  85093   \n",
      "Type                                                 Link  Photo  Photo   \n",
      "Category                                                1      3      3   \n",
      "Post Month                                              1      1      1   \n",
      "Post Weekday                                            5      1      7   \n",
      "Post Hour                                              11      2     10   \n",
      "Paid                                                  0.0    0.0    0.0   \n",
      "Lifetime Post Total Reach                           45920   8412   5400   \n",
      "Lifetime Post Total Impressions                      5808  13960   9218   \n",
      "Lifetime Engaged Users                                753   1179    810   \n",
      "Lifetime Post Consumers                               655   1111    756   \n",
      "Lifetime Post Consumptions                            763   1632   1003   \n",
      "Lifetime Post Impressions by people who have li...  15766   8632   5654   \n",
      "Lifetime Post reach by people who like your Page    10720   5348   3230   \n",
      "Lifetime People who have liked your Page and en...    220    699    422   \n",
      "comment                                                 0     17     10   \n",
      "like                                                128.0  185.0  125.0   \n",
      "share                                                 9.0   55.0   41.0   \n",
      "Total Interactions                                    137    257    176   \n",
      "\n",
      "                                                      495    496    497  \\\n",
      "Page total likes                                    85093  81370  81370   \n",
      "Type                                                Photo  Photo  Photo   \n",
      "Category                                                3      2      1   \n",
      "Post Month                                              1      1      1   \n",
      "Post Weekday                                            7      5      5   \n",
      "Post Hour                                               2      8      2   \n",
      "Paid                                                  0.0    0.0    0.0   \n",
      "Lifetime Post Total Reach                            4684   3480   3778   \n",
      "Lifetime Post Total Impressions                      7536   6229   7216   \n",
      "Lifetime Engaged Users                                733    537    625   \n",
      "Lifetime Post Consumers                               708    508    572   \n",
      "Lifetime Post Consumptions                            985    687    795   \n",
      "Lifetime Post Impressions by people who have li...   4750   3961   4742   \n",
      "Lifetime Post reach by people who like your Page     2876   2104   2388   \n",
      "Lifetime People who have liked your Page and en...    392    301    363   \n",
      "comment                                                 5      0      4   \n",
      "like                                                 53.0   53.0   93.0   \n",
      "share                                                26.0   22.0   18.0   \n",
      "Total Interactions                                     84     75    115   \n",
      "\n",
      "                                                      498    499  \n",
      "Page total likes                                    81370  81370  \n",
      "Type                                                Photo  Photo  \n",
      "Category                                                3      2  \n",
      "Post Month                                              1      1  \n",
      "Post Weekday                                            4      4  \n",
      "Post Hour                                              11      4  \n",
      "Paid                                                  0.0    NaN  \n",
      "Lifetime Post Total Reach                            4156   4188  \n",
      "Lifetime Post Total Impressions                      7564   7292  \n",
      "Lifetime Engaged Users                                626    564  \n",
      "Lifetime Post Consumers                               574    524  \n",
      "Lifetime Post Consumptions                            832    743  \n",
      "Lifetime Post Impressions by people who have li...   4534   3861  \n",
      "Lifetime Post reach by people who like your Page     2452   2200  \n",
      "Lifetime People who have liked your Page and en...    370    316  \n",
      "comment                                                 7      0  \n",
      "like                                                 91.0   91.0  \n",
      "share                                                38.0   28.0  \n",
      "Total Interactions                                    136    119  \n",
      "\n",
      "[19 rows x 500 columns]\n"
     ]
    }
   ],
   "source": [
    "# D. TRANSPOSING DATA\n",
    "# Creating a transpose of the dataframe using transpose() function\n",
    "df_transposed=df.transpose()\n",
    "print('\\n-------------------------- df_transposed --------------------------\\n')\n",
    "print(df_transposed)"
   ]
  },
  {
   "cell_type": "code",
   "execution_count": 7,
   "id": "12afe478",
   "metadata": {},
   "outputs": [
    {
     "name": "stdout",
     "output_type": "stream",
     "text": [
      "\n",
      "-------------------------- df_shape --------------------------\n",
      "\n",
      "(500, 19)\n",
      "\n",
      "-------------------------- df_reshape --------------------------\n",
      "\n",
      "Type  Link   Photo  Status  Video\n",
      "0      NaN    79.0     NaN    NaN\n",
      "1      NaN     NaN   130.0    NaN\n",
      "2      NaN    66.0     NaN    NaN\n",
      "3      NaN  1572.0     NaN    NaN\n",
      "4      NaN   325.0     NaN    NaN\n",
      "..     ...     ...     ...    ...\n",
      "495    NaN    53.0     NaN    NaN\n",
      "496    NaN    53.0     NaN    NaN\n",
      "497    NaN    93.0     NaN    NaN\n",
      "498    NaN    91.0     NaN    NaN\n",
      "499    NaN    91.0     NaN    NaN\n",
      "\n",
      "[500 rows x 4 columns]\n"
     ]
    }
   ],
   "source": [
    "# E. SHAPE AND RESHAPE DATA\n",
    "# Shape of the dataframe\n",
    "df_shape=df.shape\n",
    "print('\\n-------------------------- df_shape --------------------------\\n')\n",
    "print(df_shape)\n",
    "# Reshape the dataframe using pivot() function\n",
    "# Shows the relationship between the Type of Post and the No. of likes\n",
    "df_reshape=df.pivot(columns='Type', values='like')\n",
    "print('\\n-------------------------- df_reshape --------------------------\\n')\n",
    "print(df_reshape)"
   ]
  },
  {
   "cell_type": "code",
   "execution_count": 8,
   "id": "ced2450b",
   "metadata": {},
   "outputs": [
    {
     "name": "stdout",
     "output_type": "stream",
     "text": [
      "\n",
      "-------------------------- df_sorted --------------------------\n",
      "\n",
      "     Page total likes    Type  Category  Post Month  Post Weekday  Post Hour  \\\n",
      "10             139441  Status         2          12             5         10   \n",
      "8              139441  Status         2          12             7          3   \n",
      "5              139441  Status         2          12             1          9   \n",
      "1              139441  Status         2          12             3         10   \n",
      "3              139441   Photo         2          12             2         10   \n",
      "..                ...     ...       ...         ...           ...        ...   \n",
      "495             85093   Photo         3           1             7          2   \n",
      "497             81370   Photo         1           1             5          2   \n",
      "498             81370   Photo         3           1             4         11   \n",
      "499             81370   Photo         2           1             4          4   \n",
      "496             81370   Photo         2           1             5          8   \n",
      "\n",
      "     Paid  Lifetime Post Total Reach  Lifetime Post Total Impressions  \\\n",
      "10    0.0                      21744                            42334   \n",
      "8     0.0                      11844                            22538   \n",
      "5     0.0                      10472                            20849   \n",
      "1     0.0                      10460                            19057   \n",
      "3     1.0                      50128                            87991   \n",
      "..    ...                        ...                              ...   \n",
      "495   0.0                       4684                             7536   \n",
      "497   0.0                       3778                             7216   \n",
      "498   0.0                       4156                             7564   \n",
      "499   NaN                       4188                             7292   \n",
      "496   0.0                       3480                             6229   \n",
      "\n",
      "     Lifetime Engaged Users  Lifetime Post Consumers  \\\n",
      "10                     4258                     4100   \n",
      "8                      1530                     1407   \n",
      "5                      1191                     1073   \n",
      "1                      1457                     1361   \n",
      "3                      2211                      790   \n",
      "..                      ...                      ...   \n",
      "495                     733                      708   \n",
      "497                     625                      572   \n",
      "498                     626                      574   \n",
      "499                     564                      524   \n",
      "496                     537                      508   \n",
      "\n",
      "     Lifetime Post Consumptions  \\\n",
      "10                         4540   \n",
      "8                          1692   \n",
      "5                          1389   \n",
      "1                          1674   \n",
      "3                          1119   \n",
      "..                          ...   \n",
      "495                         985   \n",
      "497                         795   \n",
      "498                         832   \n",
      "499                         743   \n",
      "496                         687   \n",
      "\n",
      "     Lifetime Post Impressions by people who have liked your Page  \\\n",
      "10                                               37849              \n",
      "8                                                15220              \n",
      "5                                                16034              \n",
      "1                                                11710              \n",
      "3                                                61027              \n",
      "..                                                 ...              \n",
      "495                                               4750              \n",
      "497                                               4742              \n",
      "498                                               4534              \n",
      "499                                               3861              \n",
      "496                                               3961              \n",
      "\n",
      "     Lifetime Post reach by people who like your Page  \\\n",
      "10                                              18952   \n",
      "8                                                7912   \n",
      "5                                                7852   \n",
      "1                                                6112   \n",
      "3                                               32048   \n",
      "..                                                ...   \n",
      "495                                              2876   \n",
      "497                                              2388   \n",
      "498                                              2452   \n",
      "499                                              2200   \n",
      "496                                              2104   \n",
      "\n",
      "     Lifetime People who have liked your Page and engaged with your post  \\\n",
      "10                                                3798                     \n",
      "8                                                 1250                     \n",
      "5                                                 1016                     \n",
      "1                                                 1108                     \n",
      "3                                                 1386                     \n",
      "..                                                 ...                     \n",
      "495                                                392                     \n",
      "497                                                363                     \n",
      "498                                                370                     \n",
      "499                                                316                     \n",
      "496                                                301                     \n",
      "\n",
      "     comment    like  share  Total Interactions  \n",
      "10         0   233.0   19.0                 252  \n",
      "8          0   161.0   31.0                 192  \n",
      "5          1   152.0   33.0                 186  \n",
      "1          5   130.0   29.0                 164  \n",
      "3         58  1572.0  147.0                1777  \n",
      "..       ...     ...    ...                 ...  \n",
      "495        5    53.0   26.0                  84  \n",
      "497        4    93.0   18.0                 115  \n",
      "498        7    91.0   38.0                 136  \n",
      "499        0    91.0   28.0                 119  \n",
      "496        0    53.0   22.0                  75  \n",
      "\n",
      "[500 rows x 19 columns]\n"
     ]
    }
   ],
   "source": [
    "# C. SORT DATA\n",
    "# Sorting rows according to Page total likes, Type and then like\n",
    "df_sorted=df.sort_values(by=['Page total likes', 'Type', 'like'], ascending=False)\n",
    "print('\\n-------------------------- df_sorted --------------------------\\n')\n",
    "print(df_sorted)"
   ]
  },
  {
   "cell_type": "code",
   "execution_count": null,
   "id": "99310c50",
   "metadata": {},
   "outputs": [],
   "source": []
  },
  {
   "cell_type": "code",
   "execution_count": null,
   "id": "9575fc31",
   "metadata": {},
   "outputs": [],
   "source": []
  },
  {
   "cell_type": "code",
   "execution_count": null,
   "id": "2238cd7f",
   "metadata": {},
   "outputs": [],
   "source": []
  },
  {
   "cell_type": "code",
   "execution_count": null,
   "id": "33920cc9",
   "metadata": {},
   "outputs": [],
   "source": []
  },
  {
   "cell_type": "code",
   "execution_count": null,
   "id": "49ea4b20",
   "metadata": {},
   "outputs": [],
   "source": []
  },
  {
   "cell_type": "code",
   "execution_count": null,
   "id": "20ca8aa4",
   "metadata": {},
   "outputs": [],
   "source": []
  },
  {
   "cell_type": "code",
   "execution_count": null,
   "id": "bce0abb8",
   "metadata": {},
   "outputs": [],
   "source": [
    "#3. Perform the following operations using Python on the Air quality and Heart Diseases data sets\n",
    "#a. Data cleaning\n",
    "#b. Data integration\n",
    "#c. Data transformation\n",
    "import pandas as pd\n",
    "import numpy as np\n",
    "df1=pd.read_csv(\"AirQuality.csv\", sep=\";\")\n",
    "df1"
   ]
  },
  {
   "cell_type": "code",
   "execution_count": null,
   "id": "bb72d81a",
   "metadata": {},
   "outputs": [],
   "source": [
    "#a.data cleaning\n",
    "\n",
    "df1.isnull().sum() #checking null values\n",
    "droped_df1=df1.dropna() #droping null values\n",
    "droped_df1.isnull().sum()\n"
   ]
  },
  {
   "cell_type": "code",
   "execution_count": null,
   "id": "eeaadac6",
   "metadata": {},
   "outputs": [],
   "source": []
  },
  {
   "cell_type": "code",
   "execution_count": null,
   "id": "581d00e7",
   "metadata": {},
   "outputs": [],
   "source": [
    "df2=pd.read_csv(\"heart.csv\")\n",
    "df2"
   ]
  },
  {
   "cell_type": "code",
   "execution_count": null,
   "id": "bf9e3136",
   "metadata": {},
   "outputs": [],
   "source": [
    "cleaned_df2 = df2.isnull().sum() #checking null values\n",
    "cleaned_df2"
   ]
  },
  {
   "cell_type": "code",
   "execution_count": null,
   "id": "32724c2f",
   "metadata": {},
   "outputs": [],
   "source": [
    "#b.DATA Integration\n",
    "\n",
    "df3=df2[['age','sex','trestbps','chol']].loc[0:20]\n",
    "df3"
   ]
  },
  {
   "cell_type": "code",
   "execution_count": null,
   "id": "da1914e5",
   "metadata": {},
   "outputs": [],
   "source": [
    "df4=df2[['age','sex','trestbps','chol']].loc[21:40]\n",
    "df4"
   ]
  },
  {
   "cell_type": "code",
   "execution_count": null,
   "id": "708de094",
   "metadata": {},
   "outputs": [],
   "source": [
    "integrated_df=pd.concat([df3,df4])\n",
    "integrated_df"
   ]
  },
  {
   "cell_type": "code",
   "execution_count": null,
   "id": "56a1dc8c",
   "metadata": {},
   "outputs": [],
   "source": [
    "#c. Data Transformation\n",
    "\n",
    "df2.loc[df2['sex']==1, 'sex']='M' #replacing 1 with M\n",
    "\n",
    "df2.loc[df2['sex']==0, 'sex']='F' #replacing 0 with F"
   ]
  },
  {
   "cell_type": "code",
   "execution_count": null,
   "id": "295bf8e4",
   "metadata": {},
   "outputs": [],
   "source": [
    "df2.head()"
   ]
  },
  {
   "cell_type": "code",
   "execution_count": null,
   "id": "0ebc3987",
   "metadata": {},
   "outputs": [],
   "source": [
    "from sklearn.preprocessing  import LabelEncoder\n",
    "labelencoder=LabelEncoder()\n",
    "df2['sex']=labelencoder.fit_transform(df2['sex'])\n",
    "df2      #used to encode categorical variables into numerical labels"
   ]
  },
  {
   "cell_type": "code",
   "execution_count": null,
   "id": "cd061fd8",
   "metadata": {},
   "outputs": [],
   "source": [
    "#Replacing the Object dtype of Date to Date dtype\n",
    "df1['Date'] = pd.to_datetime(df1['Date'])\n",
    "\n",
    "#To Replace the Comma's with Dot\n",
    "df1.replace(to_replace=',',value='.', regex=True, inplace=True)\n",
    "df1"
   ]
  },
  {
   "cell_type": "code",
   "execution_count": null,
   "id": "bce889f3",
   "metadata": {},
   "outputs": [],
   "source": [
    "df1.head()"
   ]
  },
  {
   "cell_type": "code",
   "execution_count": null,
   "id": "1b8e7ebb",
   "metadata": {},
   "outputs": [],
   "source": []
  },
  {
   "cell_type": "code",
   "execution_count": null,
   "id": "d8cce2b0",
   "metadata": {},
   "outputs": [],
   "source": []
  },
  {
   "cell_type": "code",
   "execution_count": null,
   "id": "7abcd7b8",
   "metadata": {},
   "outputs": [],
   "source": []
  },
  {
   "cell_type": "code",
   "execution_count": null,
   "id": "13b79b2c",
   "metadata": {},
   "outputs": [],
   "source": [
    "#4. Perform the following operations using Python on the Air quality and Heart Diseases data sets\n",
    "#a. Data transformation "
   ]
  },
  {
   "cell_type": "code",
   "execution_count": null,
   "id": "938e5918",
   "metadata": {},
   "outputs": [],
   "source": [
    "import pandas as pd #Python library used for working with data sets\n",
    "import numpy as np #Python library used for working with arrays\n",
    "import seaborn as sn # library for making statistical graphics in Python\n",
    "import random as rn \n",
    "import matplotlib.pyplot as mat #used to create 2D graphs and plots by using python scripts\n",
    "from sklearn.model_selection import train_test_split \n",
    "from sklearn.naive_bayes import GaussianNB,MultinomialNB\n",
    "from sklearn.metrics import accuracy_score "
   ]
  },
  {
   "cell_type": "code",
   "execution_count": null,
   "id": "99d64e88",
   "metadata": {},
   "outputs": [],
   "source": [
    "DataFrame1=pd.read_csv('heart.csv') #Read a comma-separated values (csv) file into DataFrame\n",
    "DataFrame1"
   ]
  },
  {
   "cell_type": "code",
   "execution_count": null,
   "id": "ec13e746",
   "metadata": {},
   "outputs": [],
   "source": [
    "DataFrame2=pd.read_csv('AirQuality.csv',sep=';') #Read a comma-separated values (csv) file into DataFrame\n",
    "DataFrame2"
   ]
  },
  {
   "cell_type": "code",
   "execution_count": null,
   "id": "3296b9ef",
   "metadata": {},
   "outputs": [],
   "source": [
    "DataFrame1.isna().sum() #Detect missing values for an array-like object\n",
    "#.sum() sums up the numbers in the list"
   ]
  },
  {
   "cell_type": "code",
   "execution_count": null,
   "id": "566da13b",
   "metadata": {},
   "outputs": [],
   "source": [
    "DataFrame1.loc[DataFrame1['sex']==1,'sex']='M' #Replacing 1 with M"
   ]
  },
  {
   "cell_type": "code",
   "execution_count": null,
   "id": "ecc9fef8",
   "metadata": {},
   "outputs": [],
   "source": [
    "DataFrame1.loc[DataFrame1['sex']==0,'sex']='F' #Replacing 0 with F"
   ]
  },
  {
   "cell_type": "code",
   "execution_count": null,
   "id": "94f52dea",
   "metadata": {},
   "outputs": [],
   "source": [
    "DataFrame1.head()"
   ]
  },
  {
   "cell_type": "code",
   "execution_count": null,
   "id": "b3072ea0",
   "metadata": {},
   "outputs": [],
   "source": [
    "from sklearn.preprocessing import LabelEncoder\n",
    "labelencoder=LabelEncoder()\n",
    "DataFrame1[\"sex\"]=labelencoder.fit_transform(DataFrame1[\"sex\"])\n",
    "DataFrame1 #used to encode categorical variables into numerical labels that is transform"
   ]
  },
  {
   "cell_type": "code",
   "execution_count": null,
   "id": "cbee6cb1",
   "metadata": {},
   "outputs": [],
   "source": [
    "#b.error correction\n",
    "DataFrame1[DataFrame1['ca']==4]\n"
   ]
  },
  {
   "cell_type": "code",
   "execution_count": null,
   "id": "dffcc821",
   "metadata": {},
   "outputs": [],
   "source": [
    "DataFrame1.loc[DataFrame1['ca']==4,'ca']=np.NaN  #It locates the rows where the value in the 'ca' column is equal to 4 and replaces those values with NaN (Not a Number)"
   ]
  },
  {
   "cell_type": "code",
   "execution_count": null,
   "id": "ece13f52",
   "metadata": {},
   "outputs": [],
   "source": [
    "DataFrame1 = DataFrame1.fillna(DataFrame1.median())"
   ]
  },
  {
   "cell_type": "code",
   "execution_count": null,
   "id": "0ea5f863",
   "metadata": {},
   "outputs": [],
   "source": [
    "DataFrame1.isnull().sum()"
   ]
  },
  {
   "cell_type": "code",
   "execution_count": null,
   "id": "3cfb4771",
   "metadata": {},
   "outputs": [],
   "source": [
    "DataFrame1"
   ]
  },
  {
   "cell_type": "code",
   "execution_count": null,
   "id": "2e2ffd01",
   "metadata": {},
   "outputs": [],
   "source": [
    "#model building\n",
    "X_train, X_test, y_train, y_test = train_test_split(DataFrame1.iloc[:,:-1], DataFrame1.iloc[:,-1], test_size = 0.3, random_state = 0)\n"
   ]
  },
  {
   "cell_type": "code",
   "execution_count": null,
   "id": "b5098d55",
   "metadata": {},
   "outputs": [],
   "source": [
    "X_train.shape, X_test.shape,y_train.shape"
   ]
  },
  {
   "cell_type": "code",
   "execution_count": null,
   "id": "4e3abeb1",
   "metadata": {},
   "outputs": [],
   "source": [
    "gnb = GaussianNB()"
   ]
  },
  {
   "cell_type": "code",
   "execution_count": null,
   "id": "ba0164ad",
   "metadata": {},
   "outputs": [],
   "source": [
    "gnb.fit(X_train, y_train)\n",
    "#fitting a Gaussian Naive Bayes (GNB) model on the training data\n"
   ]
  },
  {
   "cell_type": "code",
   "execution_count": null,
   "id": "907f368d",
   "metadata": {},
   "outputs": [],
   "source": [
    "y_pred = gnb.predict(X_test)\n",
    "y_pred"
   ]
  },
  {
   "cell_type": "code",
   "execution_count": null,
   "id": "216fcfa3",
   "metadata": {},
   "outputs": [],
   "source": [
    "print('Model accuracy score: {0:0.4f}'. format(accuracy_score(y_test, y_pred)))"
   ]
  },
  {
   "cell_type": "code",
   "execution_count": null,
   "id": "4688c1ea",
   "metadata": {},
   "outputs": [],
   "source": []
  },
  {
   "cell_type": "code",
   "execution_count": null,
   "id": "57b07558",
   "metadata": {},
   "outputs": [],
   "source": []
  },
  {
   "cell_type": "code",
   "execution_count": null,
   "id": "28426bbe",
   "metadata": {},
   "outputs": [],
   "source": [
    "#5. Visualize the data using Python libraries matplotlib, seaborn by plotting the graphs for the Air quality and Heart Diseases data sets\n",
    "#a. Data cleaning b. Data integration\n",
    "\n",
    "import pandas as pd #Python library used for working with data sets\n",
    "import numpy as np #Python library used for working with arrays\n",
    "import seaborn as sn # library for making statistical graphics in Python\n",
    "import matplotlib.pyplot as mat #used to create 2D graphs and plots by using python scripts"
   ]
  },
  {
   "cell_type": "code",
   "execution_count": null,
   "id": "f3b103ea",
   "metadata": {},
   "outputs": [],
   "source": [
    "df1=pd.read_csv('D:/dsbda basic/DSBDA-Final-Problem-Statements-main/PS5/heart.csv')\n",
    "df1.head()"
   ]
  },
  {
   "cell_type": "code",
   "execution_count": null,
   "id": "5aee18f7",
   "metadata": {},
   "outputs": [],
   "source": [
    "df2=pd.read_csv('D:/dsbda basic/DSBDA-Final-Problem-Statements-main/PS5/AirQuality.csv', sep=';')\n",
    "df2.head()"
   ]
  },
  {
   "cell_type": "code",
   "execution_count": null,
   "id": "8ccd8db8",
   "metadata": {},
   "outputs": [],
   "source": [
    "df3=df2.iloc[:,:15] #iloc stands for “integer location”.\n",
    "#It is used to select rows and columns from a Pandas DataFrame or a Series using integer-based indexing"
   ]
  },
  {
   "cell_type": "code",
   "execution_count": null,
   "id": "26fba32d",
   "metadata": {},
   "outputs": [],
   "source": [
    "df3"
   ]
  },
  {
   "cell_type": "code",
   "execution_count": null,
   "id": "cdd1ebda",
   "metadata": {},
   "outputs": [],
   "source": [
    "#Replacing the Object dtype of Date to Date dtype\n",
    "df4['Date']=pd.to_datetime(df4['Date'])\n"
   ]
  },
  {
   "cell_type": "code",
   "execution_count": null,
   "id": "45550982",
   "metadata": {},
   "outputs": [],
   "source": [
    "#To Replace the Comma's with Dot\n",
    "df4.replace(to_replace=',',value='.',regex=True,inplace=True)\n",
    "df4"
   ]
  },
  {
   "cell_type": "code",
   "execution_count": null,
   "id": "0fc24c1a",
   "metadata": {},
   "outputs": [],
   "source": [
    "df4.drop_duplicates(inplace=True)\n",
    "df4 #Drop Duplicates"
   ]
  },
  {
   "cell_type": "code",
   "execution_count": null,
   "id": "d4552b6e",
   "metadata": {},
   "outputs": [],
   "source": [
    "#b.data integration\n",
    "DataSet1=df4[['Date','Time','T','RH','AH']].loc[0:50]\n",
    "DataSet1.head()"
   ]
  },
  {
   "cell_type": "code",
   "execution_count": null,
   "id": "2165c6fc",
   "metadata": {},
   "outputs": [],
   "source": [
    "DataSet2=df4[['Date','Time','T','RH','AH']].loc[51:100]\n",
    "DataSet2.head()"
   ]
  },
  {
   "cell_type": "code",
   "execution_count": null,
   "id": "5cc67467",
   "metadata": {},
   "outputs": [],
   "source": [
    "integrated=pd.concat([DataSet1,DataSet2])\n",
    "integrated"
   ]
  },
  {
   "cell_type": "code",
   "execution_count": null,
   "id": "e9d12af8",
   "metadata": {},
   "outputs": [],
   "source": [
    "import matplotlib.pyplot as plt\n",
    "plt.figure(figsize=(10, 6))\n",
    "plt.subplot(2, 2, 1)  # Create a subplot (2 rows, 2 columns, subplot 1)\n",
    "plt.hist(df1['age'], bins=10, edgecolor='k')\n",
    "plt.xlabel('Age')\n",
    "plt.ylabel('Frequency')\n",
    "plt.title('Age Distribution')\n",
    "plt.show()"
   ]
  },
  {
   "cell_type": "code",
   "execution_count": null,
   "id": "bb1181b7",
   "metadata": {},
   "outputs": [],
   "source": [
    "# Bar plot of sex\n",
    "plt.subplot(2, 2, 2)  # Create a subplot (2 rows, 2 columns, subplot 2)\n",
    "sex_counts = df1['sex'].value_counts()\n",
    "plt.bar(sex_counts.index, sex_counts.values)\n",
    "plt.xlabel('Sex (0 = female, 1 = male)')\n",
    "plt.ylabel('Count')\n",
    "plt.title('Gender Distribution')"
   ]
  },
  {
   "cell_type": "code",
   "execution_count": null,
   "id": "a6ec24da",
   "metadata": {},
   "outputs": [],
   "source": [
    "# Scatter plot of age and cholesterol\n",
    "plt.subplot(2, 2, 3)  # Create a subplot (2 rows, 2 columns, subplot 3)\n",
    "plt.scatter(df1['age'], df1['chol'], alpha=0.5)\n",
    "plt.xlabel('Age')\n",
    "plt.ylabel('Cholesterol')\n",
    "plt.title('Age vs. Cholesterol')"
   ]
  },
  {
   "cell_type": "code",
   "execution_count": null,
   "id": "c0e5fe8a",
   "metadata": {},
   "outputs": [],
   "source": [
    "plt.subplot(2,2,4)\n",
    "plt.boxplot([df1[df1['target']==0]['trestbps'],\n",
    "           df1[df1['target']==1]['trestbps']],\n",
    "           labels=['No Disease','Disease'])\n",
    "plt.xlabel('Disease')\n",
    "plt.ylabel('Restng Blood Pressure')\n",
    "plt.title('Resting Blood Pressure by Target')\n",
    "\n",
    "plt.tight_layout()"
   ]
  },
  {
   "cell_type": "code",
   "execution_count": null,
   "id": "28a20c27",
   "metadata": {},
   "outputs": [],
   "source": [
    "# Scatter plot of NOx(GT) vs. NO2(GT)\n",
    "plt.subplot(2, 2, 2)  # Create a subplot (2 rows, 2 columns, subplot 2)\n",
    "plt.scatter(df2['NOx(GT)'], df2['NO2(GT)'], alpha=0.5)\n",
    "plt.xlabel('NOx(GT)')\n",
    "plt.ylabel('NO2(GT)')\n",
    "plt.title('NOx(GT) vs. NO2(GT)')"
   ]
  },
  {
   "cell_type": "code",
   "execution_count": null,
   "id": "faeeb63f",
   "metadata": {},
   "outputs": [],
   "source": [
    "# Scatter plot of NO2(GT) vs. PT08.S4(NO2)\n",
    "plt.subplot(2, 2, 4)  # Create a subplot (2 rows, 2 columns, subplot 4)\n",
    "plt.scatter(df2['NO2(GT)'], df2['PT08.S4(NO2)'], alpha=0.5)\n",
    "plt.xlabel('NO2(GT)')\n",
    "plt.ylabel('PT08.S4(NO2)')\n",
    "plt.title('NO2(GT) vs. PT08.S4(NO2)')\n",
    "\n",
    "plt.tight_layout()  # Adjust the spacing between subplots\n",
    "plt.show()  # Display the plots"
   ]
  },
  {
   "cell_type": "code",
   "execution_count": null,
   "id": "63a3057b",
   "metadata": {},
   "outputs": [],
   "source": [
    "# Scatter plot of PT08.S1(CO) vs. PT08.S2(NMHC)\n",
    "plt.subplot(2, 2, 2)  # Create a subplot (2 rows, 2 columns, subplot 2)\n",
    "plt.scatter(df2['PT08.S1(CO)'], df2['PT08.S2(NMHC)'], alpha=0.5)\n",
    "plt.xlabel('PT08.S1(CO)')\n",
    "plt.ylabel('PT08.S2(NMHC)')\n",
    "plt.title('PT08.S1(CO) vs. PT08.S2(NMHC)')"
   ]
  },
  {
   "cell_type": "code",
   "execution_count": null,
   "id": "27ee76e5",
   "metadata": {},
   "outputs": [],
   "source": [
    "# Box plot of NOx(GT)\n",
    "plt.subplot(2, 2, 3)  # Create a subplot (2 rows, 2 columns, subplot 3)\n",
    "plt.boxplot(df2['NOx(GT)'])\n",
    "plt.xlabel('NOx(GT)')\n",
    "plt.ylabel('Value')\n",
    "plt.title('NOx(GT)')"
   ]
  },
  {
   "cell_type": "code",
   "execution_count": null,
   "id": "3bc7ec54",
   "metadata": {},
   "outputs": [],
   "source": []
  },
  {
   "cell_type": "code",
   "execution_count": null,
   "id": "dad52065",
   "metadata": {},
   "outputs": [],
   "source": []
  },
  {
   "cell_type": "code",
   "execution_count": null,
   "id": "aa36dd40",
   "metadata": {},
   "outputs": [],
   "source": [
    "#8. Visualize the data using Python libraries matplotlib, seaborn by plotting the graphs for the Air quality and Heart Diseases data sets\n",
    "#a. Data transformation \n",
    "#b. Error correcting\n",
    "#c. Data model building"
   ]
  },
  {
   "cell_type": "code",
   "execution_count": null,
   "id": "82dbe746",
   "metadata": {},
   "outputs": [],
   "source": [
    "import pandas as pd #Python library used for working with data sets\n",
    "import numpy as np #Python library used for working with arrays\n",
    "import seaborn as sn # library for making statistical graphics in Python\n",
    "import random as rn \n",
    "import matplotlib.pyplot as mat #used to create 2D graphs and plots by using python scripts\n",
    "from sklearn.model_selection import train_test_split \n",
    "from sklearn.naive_bayes import GaussianNB,MultinomialNB\n",
    "from sklearn.metrics import accuracy_score "
   ]
  },
  {
   "cell_type": "code",
   "execution_count": null,
   "id": "f52fe136",
   "metadata": {},
   "outputs": [],
   "source": [
    "DataFrame1=pd.read_csv('D:/dsbda basic/DSBDA-Final-Problem-Statements-main/PS8/heart.csv') #Read a comma-separated values (csv) file into DataFrame\n",
    "DataFrame1"
   ]
  },
  {
   "cell_type": "code",
   "execution_count": null,
   "id": "9b6bf23a",
   "metadata": {},
   "outputs": [],
   "source": [
    "DataFrame2=pd.read_csv('D:/dsbda basic/DSBDA-Final-Problem-Statements-main/PS8/AirQuality.csv',sep=';') #Read a comma-separated values (csv) file into DataFrame\n",
    "DataFrame2"
   ]
  },
  {
   "cell_type": "code",
   "execution_count": null,
   "id": "98a411c4",
   "metadata": {},
   "outputs": [],
   "source": [
    "DataFrame1.isna().sum().sum() #Detect missing values for an array-like object\n",
    "#.sum() sums up the numbers in the list"
   ]
  },
  {
   "cell_type": "code",
   "execution_count": null,
   "id": "a627a56e",
   "metadata": {},
   "outputs": [],
   "source": [
    "DataFrame1.loc[DataFrame1['sex']==1,'sex']='M' #Replacing 1 with M"
   ]
  },
  {
   "cell_type": "code",
   "execution_count": null,
   "id": "4974d60b",
   "metadata": {},
   "outputs": [],
   "source": [
    "DataFrame1.loc[DataFrame1['sex']==0,'sex']='F' #Replacing 0 with F"
   ]
  },
  {
   "cell_type": "code",
   "execution_count": null,
   "id": "762bbc46",
   "metadata": {},
   "outputs": [],
   "source": [
    "DataFrame1.head()"
   ]
  },
  {
   "cell_type": "code",
   "execution_count": null,
   "id": "358c96d5",
   "metadata": {},
   "outputs": [],
   "source": [
    "from sklearn.preprocessing import LabelEncoder\n",
    "labelencoder=LabelEncoder()\n",
    "DataFrame1[\"sex\"]=labelencoder.fit_transform(DataFrame1[\"sex\"])\n",
    "DataFrame1 #used to encode categorical variables into numerical labels that is transform"
   ]
  },
  {
   "cell_type": "code",
   "execution_count": null,
   "id": "dae70b88",
   "metadata": {},
   "outputs": [],
   "source": [
    "#b.error correctiojn\n",
    "DataFrame1[DataFrame1['ca']==4]"
   ]
  },
  {
   "cell_type": "code",
   "execution_count": null,
   "id": "7103e451",
   "metadata": {},
   "outputs": [],
   "source": [
    "DataFrame1.loc[DataFrame1['ca']==4,'ca']=np.NaN"
   ]
  },
  {
   "cell_type": "code",
   "execution_count": null,
   "id": "10f46691",
   "metadata": {},
   "outputs": [],
   "source": [
    "DataFrame1 = DataFrame1.fillna(DataFrame1.median())"
   ]
  },
  {
   "cell_type": "code",
   "execution_count": null,
   "id": "a8f3998e",
   "metadata": {},
   "outputs": [],
   "source": [
    "DataFrame1.isnull().sum()"
   ]
  },
  {
   "cell_type": "code",
   "execution_count": null,
   "id": "baa17ed5",
   "metadata": {},
   "outputs": [],
   "source": [
    "DataFrame1"
   ]
  },
  {
   "cell_type": "code",
   "execution_count": null,
   "id": "dff3248f",
   "metadata": {},
   "outputs": [],
   "source": [
    "#c.model building\n",
    "X_train, X_test, y_train, y_test = train_test_split(DataFrame1.iloc[:,:-1], DataFrame1.iloc[:,-1], test_size = 0.3, random_state = 0)"
   ]
  },
  {
   "cell_type": "code",
   "execution_count": null,
   "id": "1fc792d3",
   "metadata": {},
   "outputs": [],
   "source": [
    "X_train.shape, X_test.shape,y_train.shape"
   ]
  },
  {
   "cell_type": "code",
   "execution_count": null,
   "id": "a76e8910",
   "metadata": {},
   "outputs": [],
   "source": [
    "gnb = GaussianNB()"
   ]
  },
  {
   "cell_type": "code",
   "execution_count": null,
   "id": "7226f51c",
   "metadata": {},
   "outputs": [],
   "source": [
    "gnb.fit(X_train, y_train)\n",
    "#fitting a Gaussian Naive Bayes (GNB) model on the training data"
   ]
  },
  {
   "cell_type": "code",
   "execution_count": null,
   "id": "d8823f60",
   "metadata": {},
   "outputs": [],
   "source": [
    "y_pred = gnb.predict(X_test)\n",
    "y_pred"
   ]
  },
  {
   "cell_type": "code",
   "execution_count": null,
   "id": "8822692a",
   "metadata": {},
   "outputs": [],
   "source": [
    "print('Model accuracy score: {0:0.4f}'. format(accuracy_score(y_test, y_pred)))"
   ]
  },
  {
   "cell_type": "code",
   "execution_count": null,
   "id": "8275c95e",
   "metadata": {},
   "outputs": [],
   "source": [
    "import matplotlib.pyplot as plt\n",
    "plt.figure(figsize=(10, 6))\n",
    "plt.subplot(2, 2, 1)  # Create a subplot (2 rows, 2 columns, subplot 1)\n",
    "plt.hist(DataFrame1['age'], bins=10, edgecolor='k')\n",
    "plt.xlabel('Age')\n",
    "plt.ylabel('Frequency')\n",
    "plt.title('Age Distribution')\n",
    "plt.show()"
   ]
  },
  {
   "cell_type": "code",
   "execution_count": null,
   "id": "80cf34fc",
   "metadata": {},
   "outputs": [],
   "source": [
    "# Bar plot of sex\n",
    "plt.subplot(2, 2, 2)  # Create a subplot (2 rows, 2 columns, subplot 2)\n",
    "sex_counts = DataFrame1['sex'].value_counts()\n",
    "plt.bar(sex_counts.index, sex_counts.values)\n",
    "plt.xlabel('Sex (0 = female, 1 = male)')\n",
    "plt.ylabel('Count')\n",
    "plt.title('Gender Distribution')"
   ]
  },
  {
   "cell_type": "code",
   "execution_count": null,
   "id": "47631f67",
   "metadata": {},
   "outputs": [],
   "source": [
    "# Scatter plot of age and cholesterol\n",
    "plt.subplot(2, 2, 3)  # Create a subplot (2 rows, 2 columns, subplot 3)\n",
    "plt.scatter(DataFrame1['age'], DataFrame1['chol'], alpha=0.5)\n",
    "plt.xlabel('Age')\n",
    "plt.ylabel('Cholesterol')\n",
    "plt.title('Age vs. Cholesterol')"
   ]
  },
  {
   "cell_type": "code",
   "execution_count": null,
   "id": "ccd347e6",
   "metadata": {},
   "outputs": [],
   "source": [
    "plt.subplot(2,2,4)\n",
    "plt.boxplot([DataFrame1[DataFrame1['target']==0]['trestbps'],\n",
    "           DataFrame1[DataFrame1['target']==1]['trestbps']],\n",
    "           labels=['No Disease','Disease'])\n",
    "plt.xlabel('Disease')\n",
    "plt.ylabel('Restng Blood Pressure')\n",
    "plt.title('Resting Blood Pressure by Target')\n",
    "\n",
    "plt.tight_layout()"
   ]
  },
  {
   "cell_type": "code",
   "execution_count": null,
   "id": "fe682f7f",
   "metadata": {},
   "outputs": [],
   "source": [
    "# Scatter plot of NOx(GT) vs. NO2(GT)\n",
    "plt.subplot(2, 2, 2)  # Create a subplot (2 rows, 2 columns, subplot 2)\n",
    "plt.scatter(DataFrame2['NOx(GT)'], DataFrame2['NO2(GT)'], alpha=0.5)\n",
    "plt.xlabel('NOx(GT)')\n",
    "plt.ylabel('NO2(GT)')\n",
    "plt.title('NOx(GT) vs. NO2(GT)')"
   ]
  },
  {
   "cell_type": "code",
   "execution_count": null,
   "id": "ac5622f8",
   "metadata": {},
   "outputs": [],
   "source": [
    "# Scatter plot of NO2(GT) vs. PT08.S4(NO2)\n",
    "plt.subplot(2, 2, 4)  # Create a subplot (2 rows, 2 columns, subplot 4)\n",
    "plt.scatter(DataFrame2['NO2(GT)'], DataFrame2['PT08.S4(NO2)'], alpha=0.5)\n",
    "plt.xlabel('NO2(GT)')\n",
    "plt.ylabel('PT08.S4(NO2)')\n",
    "plt.title('NO2(GT) vs. PT08.S4(NO2)')\n",
    "\n",
    "plt.tight_layout()  # Adjust the spacing between subplots\n",
    "plt.show()  # Display the plots"
   ]
  },
  {
   "cell_type": "code",
   "execution_count": null,
   "id": "aea8cac3",
   "metadata": {},
   "outputs": [],
   "source": [
    "# Scatter plot of PT08.S1(CO) vs. PT08.S2(NMHC)\n",
    "plt.subplot(2, 2, 2)  # Create a subplot (2 rows, 2 columns, subplot 2)\n",
    "plt.scatter(DataFrame2['PT08.S1(CO)'], DataFrame2['PT08.S2(NMHC)'], alpha=0.5)\n",
    "plt.xlabel('PT08.S1(CO)')\n",
    "plt.ylabel('PT08.S2(NMHC)')\n",
    "plt.title('PT08.S1(CO) vs. PT08.S2(NMHC)')"
   ]
  },
  {
   "cell_type": "code",
   "execution_count": null,
   "id": "cb34fcf1",
   "metadata": {},
   "outputs": [],
   "source": [
    "# Box plot of NOx(GT)\n",
    "plt.subplot(2, 2, 3)  # Create a subplot (2 rows, 2 columns, subplot 3)\n",
    "plt.boxplot(DataFrame2['NOx(GT)'])\n",
    "plt.xlabel('NOx(GT)')\n",
    "plt.ylabel('Value')\n",
    "plt.title('NOx(GT)')"
   ]
  }
 ],
 "metadata": {
  "kernelspec": {
   "display_name": "Python 3 (ipykernel)",
   "language": "python",
   "name": "python3"
  },
  "language_info": {
   "codemirror_mode": {
    "name": "ipython",
    "version": 3
   },
   "file_extension": ".py",
   "mimetype": "text/x-python",
   "name": "python",
   "nbconvert_exporter": "python",
   "pygments_lexer": "ipython3",
   "version": "3.10.9"
  }
 },
 "nbformat": 4,
 "nbformat_minor": 5
}
